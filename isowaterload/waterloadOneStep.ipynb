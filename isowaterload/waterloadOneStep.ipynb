{
 "cells": [
  {
   "cell_type": "code",
   "execution_count": null,
   "metadata": {},
   "outputs": [],
   "source": [
    "import gflex\n",
    "import pandas as pd\n",
    "import numpy as np\n",
    "import matplotlib.mlab as ml\n",
    "import matplotlib.pyplot as plt\n",
    "from matplotlib import cm\n",
    "from mpl_toolkits.axes_grid1 import make_axes_locatable\n",
    "\n",
    "from scripts import morphoGrid as morph\n",
    "from scipy.spatial import cKDTree\n",
    "\n",
    "# display plots in SVG format\n",
    "%config InlineBackend.figure_format = 'svg'\n",
    "%matplotlib inline"
   ]
  },
  {
   "cell_type": "markdown",
   "metadata": {},
   "source": [
    "# Define parameters\n",
    "\n",
    "This should mimick your input file conditions."
   ]
  },
  {
   "cell_type": "code",
   "execution_count": null,
   "metadata": {},
   "outputs": [],
   "source": [
    "dx = 50000 # resolution\n",
    "step = 800 # Here we only analyse 1 step i.e. output number from badlands\n",
    "badlands_run = 'sunda_spratt/h5'\n",
    "\n",
    "\n",
    "# Parameters for gflex\n",
    "poisson = 0.25\n",
    "youngMod = 65e9\n",
    "mantleDensity = 3300.0\n",
    "sedimentDensity = 2500.0\n",
    "elasticT = 35000.\n",
    "boundary_W = '0Displacement0Slope'\n",
    "boundary_E = '0Displacement0Slope'\n",
    "boundary_S = '0Displacement0Slope'\n",
    "boundary_N = '0Displacement0Slope'"
   ]
  },
  {
   "cell_type": "markdown",
   "metadata": {},
   "source": [
    "We read the output and create a regular grid to run the flexure..."
   ]
  },
  {
   "cell_type": "code",
   "execution_count": null,
   "metadata": {},
   "outputs": [],
   "source": [
    "badland_topo = morph.morphoGrid(folder=badlands_run, bbox = None, dx=dx)\n",
    "badland_topo.loadHDF5(timestep=step)"
   ]
  },
  {
   "cell_type": "code",
   "execution_count": null,
   "metadata": {},
   "outputs": [],
   "source": [
    "fig = plt.figure(figsize=(10, 8))\n",
    "ax = plt.gca()\n",
    "im = ax.imshow(badland_topo.z-badland_topo.sl, cmap ='RdYlBu_r', vmin = -3000, vmax = 3000, \n",
    "                    interpolation ='nearest', origin ='lower') \n",
    "\n",
    "ax.contour(badland_topo.z-badland_topo.sl, levels=[0], colors='k', linewidths=1)\n",
    "\n",
    "divider = make_axes_locatable(ax)\n",
    "cax = divider.append_axes(\"right\", size=\"5%\", pad=0.05)\n",
    "\n",
    "plt.colorbar(im, cax=cax)\n",
    "plt.show()"
   ]
  },
  {
   "cell_type": "markdown",
   "metadata": {},
   "source": [
    "# Compute the flexure\n",
    "\n",
    "This is just a one step example here where I show how the flexure is calculated at each time step. In your case the obtained flexure has to be substracted to the previous time step... I do that in the second notebook."
   ]
  },
  {
   "cell_type": "code",
   "execution_count": null,
   "metadata": {},
   "outputs": [],
   "source": [
    "flex = gflex.F2D()\n",
    "# Set-up the grid variable\n",
    "flex.dx = dx\n",
    "flex.dy = dx\n",
    "\n",
    "# Solution method finite difference\n",
    "flex.Method = \"FD\"\n",
    "flex.Quiet = True\n",
    "\n",
    "# van Wees and Cloetingh (1994)\n",
    "flex.PlateSolutionType = \"vWC1994\"\n",
    "flex.Solver = \"direct\"\n",
    "\n",
    "# Acceleration due to gravity\n",
    "flex.g = 9.8\n",
    "# Poisson's Ratio\n",
    "flex.nu = poisson\n",
    "# Infill Material Density\n",
    "flex.rho_fill = 0.0\n",
    "# Young's Modulus\n",
    "flex.E = youngMod\n",
    "# Mantle Density\n",
    "flex.rho_m = mantleDensity\n",
    "# Sediment Density\n",
    "rho_s = sedimentDensity\n",
    "# Sea Water Density\n",
    "rho_w = 1029.0\n",
    "\n",
    "Te = elasticT * np.ones(badland_topo.z.shape)\n",
    "\n",
    "flex.Te = Te\n",
    "\n",
    "# Surface load stresses\n",
    "flex.qs = np.zeros(badland_topo.z.shape, dtype=float)\n",
    "\n",
    "# Boundary conditions\n",
    "flex.BC_W = boundary_W\n",
    "flex.BC_E = boundary_E\n",
    "flex.BC_S = boundary_S\n",
    "flex.BC_N = boundary_N\n",
    "\n",
    "# State of the previous flexural grid used for updating current\n",
    "# flexural displacements.\n",
    "previous_flex = np.zeros(badland_topo.z.shape, dtype=float)\n",
    "waterload = np.zeros(badland_topo.z.shape)\n",
    "\n",
    "marine = np.where(badland_topo.z < badland_topo.sl)\n",
    "waterload[marine] = badland_topo.sl - badland_topo.z[marine]\n",
    "\n",
    "# Compute surface loads\n",
    "flex.qs = (rho_w * flex.g * waterload)"
   ]
  },
  {
   "cell_type": "code",
   "execution_count": null,
   "metadata": {},
   "outputs": [],
   "source": [
    "flex.initialize()\n",
    "flex.run()\n",
    "flex.finalize()"
   ]
  },
  {
   "cell_type": "markdown",
   "metadata": {},
   "source": [
    "Let's plot the flexural response due to water loading for this specific step... this is considering that there was no water prior to this step (as we don't account for the previous step) but this notebook is just here to show the steps done in the loop in the next notebook."
   ]
  },
  {
   "cell_type": "code",
   "execution_count": null,
   "metadata": {},
   "outputs": [],
   "source": [
    "fig = plt.figure(figsize=(10, 8))\n",
    "ax = plt.gca()\n",
    "im = ax.imshow(flex.w, cmap ='RdYlBu_r', vmin = -3000, vmax = 3000, \n",
    "                    interpolation ='nearest', origin ='lower') \n",
    "\n",
    "ax.contour(badland_topo.z-badland_topo.sl, levels=[0], colors='k', linewidths=1)\n",
    "\n",
    "divider = make_axes_locatable(ax)\n",
    "cax = divider.append_axes(\"right\", size=\"5%\", pad=0.05)\n",
    "\n",
    "plt.colorbar(im, cax=cax)\n",
    "plt.show()"
   ]
  },
  {
   "cell_type": "code",
   "execution_count": null,
   "metadata": {},
   "outputs": [],
   "source": []
  },
  {
   "cell_type": "code",
   "execution_count": null,
   "metadata": {},
   "outputs": [],
   "source": []
  }
 ],
 "metadata": {
  "kernelspec": {
   "display_name": "Python 3",
   "language": "python",
   "name": "python3"
  },
  "language_info": {
   "codemirror_mode": {
    "name": "ipython",
    "version": 3
   },
   "file_extension": ".py",
   "mimetype": "text/x-python",
   "name": "python",
   "nbconvert_exporter": "python",
   "pygments_lexer": "ipython3",
   "version": "3.7.3"
  }
 },
 "nbformat": 4,
 "nbformat_minor": 4
}
